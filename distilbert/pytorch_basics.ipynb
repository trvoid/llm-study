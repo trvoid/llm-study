{
 "cells": [
  {
   "cell_type": "markdown",
   "id": "67622a8e-2f7d-425e-9312-ea303ef8821c",
   "metadata": {},
   "source": [
    "# 파이토치(PyTorch) 기초\n",
    "\n",
    "1. 텐서 생성\n",
    "2. 텐서 다루기\n",
    "3. 손실 함수"
   ]
  },
  {
   "cell_type": "markdown",
   "id": "9489e1bc-4694-4472-9cdd-d82d52f1d74c",
   "metadata": {},
   "source": [
    "## 텐서 생성"
   ]
  },
  {
   "cell_type": "code",
   "execution_count": 48,
   "id": "0f53264b-a4bc-4e47-ab89-76345c9e70f3",
   "metadata": {},
   "outputs": [
    {
     "name": "stdout",
     "output_type": "stream",
     "text": [
      "tensor([[[ 1,  2],\n",
      "         [ 3,  4],\n",
      "         [ 5,  6]],\n",
      "\n",
      "        [[11, 12],\n",
      "         [13, 14],\n",
      "         [15, 16]]])\n",
      "torch.Size([2, 3, 2])\n"
     ]
    }
   ],
   "source": [
    "import torch\n",
    "import numpy as np\n",
    "\n",
    "# NumPy 배열로부터 텐서 생성\n",
    "data_numpy = np.array(\n",
    "    [\n",
    "        [\n",
    "            [1, 2],\n",
    "            [3, 4], \n",
    "            [5, 6]\n",
    "        ],\n",
    "        [\n",
    "            [11, 12],\n",
    "            [13, 14], \n",
    "            [15, 16]\n",
    "        ]\n",
    "    ]\n",
    ")\n",
    "\n",
    "# torch.tensor()는 데이터를 복사하여 새로운 텐서를 만듭니다.\n",
    "tensor_from_numpy_copy = torch.tensor(data_numpy)\n",
    "print(tensor_from_numpy_copy)\n",
    "print(tensor_from_numpy_copy.size())"
   ]
  },
  {
   "cell_type": "code",
   "execution_count": 49,
   "id": "e1d35c02-6659-4f7c-b2dc-c04aec85c516",
   "metadata": {},
   "outputs": [
    {
     "name": "stdout",
     "output_type": "stream",
     "text": [
      "tensor([[[0.1053, 0.2695],\n",
      "         [0.3588, 0.1994],\n",
      "         [0.5472, 0.0062]],\n",
      "\n",
      "        [[0.9516, 0.0753],\n",
      "         [0.8860, 0.5832],\n",
      "         [0.3376, 0.8090]]])\n",
      "torch.Size([2, 3, 2])\n"
     ]
    }
   ],
   "source": [
    "# 0과 1 사이의 균등 분포(uniform distribution)에서 랜덤 값 생성\n",
    "shape = (2, 3, 2)\n",
    "data_random = torch.rand(shape)\n",
    "print(data_random)\n",
    "print(data_random.size())"
   ]
  },
  {
   "cell_type": "markdown",
   "id": "85698327-f33a-4947-a6e8-6dad9b0f2ebc",
   "metadata": {},
   "source": [
    "## 텐서 다루기"
   ]
  },
  {
   "cell_type": "code",
   "execution_count": 50,
   "id": "b327ffd9-1737-4db4-8180-27e630c24918",
   "metadata": {},
   "outputs": [
    {
     "name": "stdout",
     "output_type": "stream",
     "text": [
      "tensor([[[ 1],\n",
      "         [ 3],\n",
      "         [ 5]],\n",
      "\n",
      "        [[11],\n",
      "         [13],\n",
      "         [15]]])\n",
      "tensor([[[ 2],\n",
      "         [ 4],\n",
      "         [ 6]],\n",
      "\n",
      "        [[12],\n",
      "         [14],\n",
      "         [16]]])\n",
      "torch.Size([2, 3, 1])\n"
     ]
    }
   ],
   "source": [
    "t1, t2 = tensor_from_numpy_copy.split(1, dim=-1)\n",
    "print(t1)\n",
    "print(t2)\n",
    "print(t2.size())"
   ]
  },
  {
   "cell_type": "code",
   "execution_count": 51,
   "id": "037762e4-fb5f-4d7c-9500-cf38ac5c901d",
   "metadata": {},
   "outputs": [
    {
     "name": "stdout",
     "output_type": "stream",
     "text": [
      "tensor([[ 1,  3,  5],\n",
      "        [11, 13, 15]])\n",
      "tensor([[ 2,  4,  6],\n",
      "        [12, 14, 16]])\n",
      "torch.Size([2, 3])\n"
     ]
    }
   ],
   "source": [
    "t1 = t1.squeeze(-1).contiguous()\n",
    "t2 = t2.squeeze(-1).contiguous()\n",
    "print(t1)\n",
    "print(t2)\n",
    "print(t2.size())"
   ]
  },
  {
   "cell_type": "code",
   "execution_count": 52,
   "id": "ff3f4965-3da9-4fc2-9ec6-14c350d78489",
   "metadata": {},
   "outputs": [
    {
     "name": "stdout",
     "output_type": "stream",
     "text": [
      "torch.Size([2, 3])\n",
      "2\n",
      "3\n"
     ]
    }
   ],
   "source": [
    "# 차원\n",
    "print(t1.size())\n",
    "print(len(t1.size()))\n",
    "print(t1.size(1))"
   ]
  },
  {
   "cell_type": "code",
   "execution_count": 53,
   "id": "a88aed36-23a0-451c-85e9-47435dc75b80",
   "metadata": {},
   "outputs": [
    {
     "name": "stdout",
     "output_type": "stream",
     "text": [
      "tensor([1, 2, 3, 4])\n",
      "tensor([1, 2, 2, 2])\n"
     ]
    }
   ],
   "source": [
    "start_positions = torch.tensor([1, 2, 3, 4])\n",
    "print(start_positions)\n",
    "start_positions = start_positions.clamp(0, 2)\n",
    "print(start_positions)"
   ]
  },
  {
   "cell_type": "markdown",
   "id": "b7a88ab7-8747-4d95-9b81-625116f5649d",
   "metadata": {},
   "source": [
    "## 손실 함수\n",
    "\n",
    "문장 분류 문제 유형 및 손실 함수\n",
    "\n",
    "| 문제 유형 | 할당 값 | 손실 함수 |\n",
    "| -- | -- | -- |\n",
    "| 회귀 (Regression) | 연속적인 수치 값 | [nn.MSELoss](https://pytorch.org/docs/stable/generated/torch.nn.MSELoss.html) |\n",
    "| 단일 레이블 분류 (Single-Label Classification) | 상호 배타적인 범주 중 하나 | [nn.CrossEntropyLoss](https://pytorch.org/docs/stable/generated/torch.nn.CrossEntropyLoss.html) |\n",
    "| 다중 레이블 분류 (Multi-Label Classification) | 상호 배타적이지 않은 범주 중 여러 개 (0개 포함) | [nn.BCELoss](https://pytorch.org/docs/stable/generated/torch.nn.BCELoss.html), [nn.BCEWithLogitsLoss](https://pytorch.org/docs/stable/generated/torch.nn.BCEWithLogitsLoss.html) |"
   ]
  },
  {
   "cell_type": "markdown",
   "id": "cf8d9bd7-86ae-4248-abe6-c02dc4145a4b",
   "metadata": {},
   "source": [
    "### MSELoss"
   ]
  },
  {
   "cell_type": "code",
   "execution_count": 61,
   "id": "29335c0c-96dd-41a2-9a30-90142081b693",
   "metadata": {},
   "outputs": [
    {
     "name": "stdout",
     "output_type": "stream",
     "text": [
      "1.0191929340362549\n"
     ]
    }
   ],
   "source": [
    "torch.manual_seed(42)\n",
    "\n",
    "loss = nn.MSELoss()\n",
    "input = torch.randn(3, 5)\n",
    "target = torch.randn(3, 5)\n",
    "output = loss(input, target)\n",
    "print(output.item())"
   ]
  },
  {
   "cell_type": "markdown",
   "id": "0beba6fa-9589-43be-a6aa-21200fccc578",
   "metadata": {},
   "source": [
    "### BCELoss"
   ]
  },
  {
   "cell_type": "code",
   "execution_count": 62,
   "id": "5fd01d9f-17a6-4834-8bd4-d3d0f4f8ddf1",
   "metadata": {},
   "outputs": [
    {
     "name": "stdout",
     "output_type": "stream",
     "text": [
      "tensor([[-0.0085,  0.7291],\n",
      "        [ 0.1331,  0.8640],\n",
      "        [-1.0157, -0.8887]])\n",
      "tensor([[0.9811, 0.0874],\n",
      "        [0.0041, 0.1088],\n",
      "        [0.1637, 0.7025]])\n",
      "0.8472294807434082\n"
     ]
    }
   ],
   "source": [
    "m = nn.Sigmoid()\n",
    "loss = nn.BCELoss()\n",
    "input = torch.randn(3, 2)\n",
    "target = torch.rand(3, 2)\n",
    "print(input)\n",
    "print(target)\n",
    "output = loss(m(input), target)\n",
    "print(output.item())"
   ]
  },
  {
   "cell_type": "markdown",
   "id": "9684f576-2bc4-4dcf-a307-f84808633375",
   "metadata": {},
   "source": [
    "### BCEWithLogitsLoss"
   ]
  },
  {
   "cell_type": "code",
   "execution_count": 63,
   "id": "5c4ff314-aae9-437c-8d65-c46820187127",
   "metadata": {},
   "outputs": [
    {
     "name": "stdout",
     "output_type": "stream",
     "text": [
      "tensor([-2.1256,  0.9629,  0.7596])\n",
      "tensor([1., 0., 1.])\n",
      "1.302810549736023\n"
     ]
    }
   ],
   "source": [
    "loss = nn.BCEWithLogitsLoss()\n",
    "input = torch.randn(3)\n",
    "target = torch.empty(3).random_(2)\n",
    "print(input)\n",
    "print(target)\n",
    "output = loss(input, target)\n",
    "print(output.item())"
   ]
  },
  {
   "cell_type": "markdown",
   "id": "e18927d2-4085-4661-a622-566c1f9d11c0",
   "metadata": {},
   "source": [
    "### CrossEntropyLoss"
   ]
  },
  {
   "cell_type": "code",
   "execution_count": 56,
   "id": "78eca187-e71e-4dc5-890a-51bef1b613db",
   "metadata": {},
   "outputs": [
    {
     "name": "stdout",
     "output_type": "stream",
     "text": [
      "ignored_index: 4\n",
      "start_loss: 1.3153, end_loss: 1.6081, total_loss: 1.4617\n"
     ]
    }
   ],
   "source": [
    "from torch import nn\n",
    "\n",
    "# Example of target with class indices\n",
    "\n",
    "batch_size = 3\n",
    "max_seq_length = 4\n",
    "\n",
    "start_positions = torch.tensor([0, 1, 4]) # (batch_size,)\n",
    "end_positions = torch.tensor([1, 2, 4]) # (batch_size,)\n",
    "\n",
    "start_logits = torch.rand((batch_size, max_seq_length)) # (batch_size, max_seq_length)\n",
    "end_logits = torch.rand((batch_size, max_seq_length)) # (batch_size, max_seq_length)\n",
    "\n",
    "ignored_index = start_logits.size(1)\n",
    "print(f\"ignored_index: {ignored_index}\")\n",
    "start_positions = start_positions.clamp(0, ignored_index)\n",
    "end_positions = end_positions.clamp(0, ignored_index)\n",
    "\n",
    "loss_fct = nn.CrossEntropyLoss(ignore_index=ignored_index)\n",
    "start_loss = loss_fct(start_logits, start_positions)\n",
    "end_loss = loss_fct(end_logits, end_positions)\n",
    "total_loss = (start_loss + end_loss) / 2\n",
    "print(f\"start_loss: {start_loss.item():.4f}, end_loss: {end_loss.item():.4f}, total_loss: {total_loss.item():.4f}\")"
   ]
  },
  {
   "cell_type": "code",
   "execution_count": null,
   "id": "20e8f9da-ca28-4063-9b81-5d67e5bb69af",
   "metadata": {},
   "outputs": [],
   "source": []
  }
 ],
 "metadata": {
  "kernelspec": {
   "display_name": "Python 3 (ipykernel)",
   "language": "python",
   "name": "python3"
  },
  "language_info": {
   "codemirror_mode": {
    "name": "ipython",
    "version": 3
   },
   "file_extension": ".py",
   "mimetype": "text/x-python",
   "name": "python",
   "nbconvert_exporter": "python",
   "pygments_lexer": "ipython3",
   "version": "3.12.9"
  }
 },
 "nbformat": 4,
 "nbformat_minor": 5
}
